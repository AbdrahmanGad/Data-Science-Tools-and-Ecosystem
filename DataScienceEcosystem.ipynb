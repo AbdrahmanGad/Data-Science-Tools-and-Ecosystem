{
 "cells": [
  {
   "cell_type": "markdown",
   "id": "bd94032f-4c6e-4292-aeb7-e63c7911e767",
   "metadata": {},
   "source": [
    "<h1>Data Science Tools and Ecosystem</h1>"
   ]
  },
  {
   "cell_type": "markdown",
   "id": "543d8d41-7e81-4809-9f63-b48d2ab3eab3",
   "metadata": {},
   "source": [
    "<b>Objectives</b>\n",
    "<ul>\n",
    "  <li>Python</li>\n",
    "  <li>R</li>\n",
    "  <li>SQL</li>\n",
    "  <li>Scala</li>\n",
    "  <li>SAS</li>\n",
    "</ul>"
   ]
  },
  {
   "cell_type": "markdown",
   "id": "16dff199-335e-4361-a765-60c5d722f526",
   "metadata": {},
   "source": [
    "In this notebook, Data Science Tools and Ecosystem are summarized."
   ]
  },
  {
   "cell_type": "markdown",
   "id": "6a4644be-f5b4-4a80-bf89-f9647a18a12b",
   "metadata": {},
   "source": [
    "Some of the popular languages that Data Scientists use are:\n",
    "1. Python\n",
    "2. R\n",
    "3. SQL"
   ]
  },
  {
   "cell_type": "markdown",
   "id": "0d2945a5-6d79-40d9-a83d-037df2fbe942",
   "metadata": {},
   "source": [
    "Some of the commonly used libraries used by Data Scientists include:\n",
    "1. Scipy\n",
    "2. Numpy\n",
    "3. Pandas"
   ]
  },
  {
   "cell_type": "markdown",
   "id": "d4ded0f8-887c-4060-8146-0afaae1fe51d",
   "metadata": {},
   "source": [
    "<table>\n",
    "  <thead>\n",
    "    <tr>\n",
    "      <th>Data Science Tools</th>\n",
    "    </tr>\n",
    "  </thead>\n",
    "  <tbody>\n",
    "    <tr>\n",
    "      <td>Jupyter Notebook</td>\n",
    "    </tr>\n",
    "    <tr>\n",
    "      <td>RStudio</td>\n",
    "    </tr>\n",
    "    <tr>\n",
    "      <td>Visual Studio Code</td>\n",
    "    </tr>\n",
    "  </tbody>\n",
    "</table>"
   ]
  },
  {
   "cell_type": "markdown",
   "id": "cb7d0262-17b6-42a0-a830-bce4d392b431",
   "metadata": {},
   "source": [
    "<h3>Below are a few examples of evaluating arithmetic expressions in Python.</h3>"
   ]
  },
  {
   "cell_type": "code",
   "execution_count": 23,
   "id": "15b5f248-103e-4bd4-9ae3-7317e63329c7",
   "metadata": {},
   "outputs": [
    {
     "name": "stdout",
     "output_type": "stream",
     "text": [
      "5\n",
      "10\n"
     ]
    }
   ],
   "source": [
    "print (3 +2 )\n",
    "print(6+4 )"
   ]
  },
  {
   "cell_type": "code",
   "execution_count": 25,
   "id": "64edef66-05f0-4cf2-b3e7-fdb80c594fac",
   "metadata": {},
   "outputs": [
    {
     "name": "stdout",
     "output_type": "stream",
     "text": [
      "17\n"
     ]
    }
   ],
   "source": [
    "#This a simple arithmetic expression to mutiply then add integers.\n",
    "print ((3*4)+5)\n"
   ]
  },
  {
   "cell_type": "code",
   "execution_count": 27,
   "id": "f37fdaae-1bca-4da3-a524-bcb9a4a5e952",
   "metadata": {},
   "outputs": [
    {
     "name": "stdout",
     "output_type": "stream",
     "text": [
      "3.3333333333333335\n"
     ]
    }
   ],
   "source": [
    "#This will convert 200 minutes to hours by diving by 60\n",
    "m = 200\n",
    "print (m / 60)\n"
   ]
  },
  {
   "cell_type": "markdown",
   "id": "18a25157-bbb0-4565-9bfc-b0799a648f54",
   "metadata": {},
   "source": [
    "<h2>Author </h2>\n",
    "Abdelrahman Gad"
   ]
  },
  {
   "cell_type": "code",
   "execution_count": null,
   "id": "82f67c5b-23ab-4c7f-a822-84ea30b8f110",
   "metadata": {},
   "outputs": [],
   "source": []
  }
 ],
 "metadata": {
  "kernelspec": {
   "display_name": "anaconda-panel-2023.05-py310",
   "language": "python",
   "name": "conda-env-anaconda-panel-2023.05-py310-py"
  },
  "language_info": {
   "codemirror_mode": {
    "name": "ipython",
    "version": 3
   },
   "file_extension": ".py",
   "mimetype": "text/x-python",
   "name": "python",
   "nbconvert_exporter": "python",
   "pygments_lexer": "ipython3",
   "version": "3.11.5"
  }
 },
 "nbformat": 4,
 "nbformat_minor": 5
}
